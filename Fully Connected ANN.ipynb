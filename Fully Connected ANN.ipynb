{
  "nbformat": 4,
  "nbformat_minor": 0,
  "metadata": {
    "colab": {
      "provenance": []
    },
    "kernelspec": {
      "name": "python3",
      "display_name": "Python 3"
    },
    "language_info": {
      "name": "python"
    }
  },
  "cells": [
    {
      "cell_type": "code",
      "execution_count": null,
      "metadata": {
        "colab": {
          "base_uri": "https://localhost:8080/"
        },
        "id": "MtvdGrfNQYkU",
        "outputId": "c9b06af4-6299-4b1d-a6d7-dd82012b7042"
      },
      "outputs": [
        {
          "output_type": "stream",
          "name": "stdout",
          "text": [
            "Drive already mounted at /content/drive; to attempt to forcibly remount, call drive.mount(\"/content/drive\", force_remount=True).\n"
          ]
        }
      ],
      "source": [
        "from google.colab import drive\n",
        "drive.mount('/content/drive')"
      ]
    },
    {
      "cell_type": "markdown",
      "source": [
        "# New Section"
      ],
      "metadata": {
        "id": "Qs0-qzUswvxM"
      }
    },
    {
      "cell_type": "code",
      "source": [
        "import numpy as np\n",
        "import random \n",
        "import matplotlib.pyplot as plt"
      ],
      "metadata": {
        "id": "hLa7aaiZTT6o"
      },
      "execution_count": null,
      "outputs": []
    },
    {
      "cell_type": "code",
      "source": [
        "# Function needed for second phase\n",
        "\n",
        "def sigmoid(x):\n",
        "\n",
        "  return 1 / (1 + np.exp(-x))\n",
        "\n",
        "\n",
        "def sigmoidDerivative(x):\n",
        "  return sigmoid(x) * (1- sigmoid(x))\n",
        "\n",
        "def maxIndex(l):\n",
        "\n",
        "  max = None\n",
        "  index = None\n",
        "\n",
        "  for i in range(l.size):\n",
        "\n",
        "    if max is None:\n",
        "      max = l[i][0]\n",
        "      index = i\n",
        "    \n",
        "    elif max < l[i][0]:\n",
        "      max = l[i][0]\n",
        "      index = i\n",
        "  \n",
        "  return index"
      ],
      "metadata": {
        "id": "cFljE62NK2Mb"
      },
      "execution_count": null,
      "outputs": []
    },
    {
      "cell_type": "code",
      "source": [
        "# Show Function\n",
        "\n",
        "def showImage(img):\n",
        "  image = img.reshape((28, 28))\n",
        "  plt.imshow(image, 'gray')\n",
        "\n",
        "# Reading the Train Set\n",
        "\n",
        "trainImageFile = open('/content/drive/MyDrive/Colab Notebooks/ANN-HandDigitRecognition/train-images.idx3-ubyte', 'rb')\n",
        "trainImageFile.seek(4)\n",
        "numTrainImage = int.from_bytes(trainImageFile.read(4), 'big')\n",
        "trainImageFile.seek(16)\n",
        "\n",
        "trainLabelFile = open('/content/drive/MyDrive/Colab Notebooks/ANN-HandDigitRecognition/train-labels.idx1-ubyte', 'rb')\n",
        "trainLabelFile.seek(8)\n",
        "\n",
        "trainSet = []\n",
        "numTrainImage = 100\n",
        "\n",
        "for i in range(numTrainImage):\n",
        "  image = np.zeros((784,1))\n",
        "  for j in range(784):\n",
        "    image[j,0] = int.from_bytes(trainImageFile.read(1), 'big') / 256\n",
        "  \n",
        "  labelValue = int.from_bytes(trainLabelFile.read(1), 'big')\n",
        "  label = np.zeros((10,1))\n",
        "  label[labelValue, 0] = 1\n",
        "\n",
        "  trainSet.append((image, label))\n",
        "\n"
      ],
      "metadata": {
        "id": "GNQfh0CITX2d",
        "colab": {
          "base_uri": "https://localhost:8080/",
          "height": 282
        },
        "outputId": "f60058ea-84a0-4b8e-e65d-ffcece1c0eb0"
      },
      "execution_count": null,
      "outputs": [
        {
          "output_type": "stream",
          "name": "stdout",
          "text": [
            "100\n"
          ]
        },
        {
          "output_type": "display_data",
          "data": {
            "text/plain": [
              "<Figure size 432x288 with 1 Axes>"
            ],
            "image/png": "[encoded data removed]"
          },
          "metadata": {
            "needs_background": "light"
          }
        }
      ]
    },
    {
      "cell_type": "code",
      "source": [
        "weight1 = np.random.randn(16, 784)\n",
        "weight2 = np.random.randn(16, 16)\n",
        "weight3 = np.random.randn(10, 16)\n",
        "\n",
        "bias1 = np.zeros((16,1))\n",
        "bias2 = np.zeros((16,1))\n",
        "bias3 = np.zeros((10,1))\n",
        "\n",
        "count = 0\n",
        "for i in range(100):\n",
        "\n",
        "  a1 = sigmoid((weight1 @ trainSet[i][0]) + bias1)\n",
        "  a2 = sigmoid((weight2 @ a1) + bias2)\n",
        "  a3 = sigmoid((weight3 @ a2) + bias3)\n",
        "\n",
        "  if maxIndex(trainSet[i][1]) == maxIndex(a3):\n",
        "    count += 1\n",
        "\n",
        "print(\" Accuracy:\", count, \"%\")\n"
      ],
      "metadata": {
        "id": "HV7IPkwJYmuq",
        "colab": {
          "base_uri": "https://localhost:8080/"
        },
        "outputId": "7696ec80-385e-48f1-d7ee-dfa38405a3cf"
      },
      "execution_count": null,
      "outputs": [
        {
          "output_type": "stream",
          "name": "stdout",
          "text": [
            " Accuracy: 7 %\n"
          ]
        }
      ]
    },
    {
      "cell_type": "code",
      "source": [
        "weight1 = np.random.randn(16, 784)\n",
        "weight2 = np.random.randn(16, 16)\n",
        "weight3 = np.random.randn(10, 16)\n",
        "\n",
        "bias1 = np.zeros((16,1))\n",
        "bias2 = np.zeros((16,1))\n",
        "bias3 = np.zeros((10,1))\n",
        "\n",
        "# Hyperprameters\n",
        "learningRate = 1\n",
        "numEpochs = 20\n",
        "batchSize = 10\n",
        "\n",
        "for i in range(numEpochs):\n",
        "  \n",
        "  \n",
        "  random.shuffle(trainSet)\n",
        "  for j in range(int(numTrainImage/batchSize)):\n",
        "\n",
        "    gradW1 = np.zeros((16, 784))\n",
        "    gradW2 = np.zeros((16, 16))\n",
        "    gradW3 = np.zeros((10, 16))\n",
        "\n",
        "    gradB1 = np.zeros((16, 1))\n",
        "    gradB2 = np.zeros((16, 1))\n",
        "    gradB3 = np.zeros((10, 1))\n",
        "\n",
        "    gradA1 = np.zeros((16, 1))\n",
        "    gradA2 = np.zeros((16, 1))\n",
        "\n",
        "    cost = 0\n",
        "    for k in range(j*batchSize, (j+1)*batchSize):\n",
        "\n",
        "      z1 = (weight1 @ trainSet[k][0]) + bias1\n",
        "      a1 = sigmoid(z1)\n",
        "      \n",
        "      z2 = (weight2 @ a1) + bias2\n",
        "      a2 = sigmoid(z2)\n",
        "\n",
        "      z3  =(weight3 @ a2) + bias3\n",
        "      a3 = sigmoid(z3)\n",
        "\n",
        "      # Cost Function\n",
        "      \n",
        "      for l in range(a3.size):\n",
        "        cost += (a3[l] - trainSet[k][1][l]) ** 2\n",
        "      \n",
        "      # w3, b3, a2\n",
        "\n",
        "      for jj in range(10):\n",
        "        for kk in range(16):\n",
        "          \n",
        "          gradW3[jj][kk] += 2 * (a3[jj][0] - trainSet[k][1][jj]) * sigmoidDerivative(z3[jj][0]) * a2[kk][0]\n",
        "\n",
        "      \n",
        "      for ii in range(10):\n",
        "\n",
        "        gradB3[ii][0] += 2 * (a3[ii][0] - trainSet[k][1][ii]) * sigmoidDerivative(z3[ii][0])\n",
        "\n",
        "      \n",
        "      for ii in range(16):\n",
        "        for jj in range(10):\n",
        "\n",
        "          gradA2 [ii][0] += 2 * (a3[jj][0] - trainSet[k][1][jj]) * sigmoidDerivative(z3[jj][0]) * weight3[jj][ii]\n",
        "\n",
        "# --------------------------------------------------------------------------------\n",
        "\n",
        "      # w2, b2, a1\n",
        "\n",
        "      for jj in range(16):\n",
        "        for kk in range(16):\n",
        "          \n",
        "          gradW2[jj][kk] += gradA2[jj][0] * sigmoidDerivative(z2[jj][0]) * a1[kk][0]\n",
        "\n",
        "      \n",
        "      for ii in range(16):\n",
        "\n",
        "        gradB2[ii][0] += gradA2[ii][0] * sigmoidDerivative(z2[ii][0])\n",
        "\n",
        "      \n",
        "      for ii in range(16):\n",
        "        for jj in range(16):\n",
        "\n",
        "          gradA1 [ii][0] += gradA2[jj][0] * sigmoidDerivative(z2[jj][0]) * weight2[jj][ii]\n",
        "\n",
        "\n",
        "# ------------------------------------------------------------------------------------\n",
        "\n",
        "      # w1, b1\n",
        "\n",
        "      for jj in range(16):\n",
        "        for kk in range(784):\n",
        "          \n",
        "          gradW1[jj][kk] += gradA1[jj][0] * sigmoidDerivative(z1[jj][0]) * trainSet[k][0][kk]\n",
        "      \n",
        "      for ii in range(16):\n",
        "\n",
        "        gradB1[ii][0] += gradA1[ii][0] * sigmoidDerivative(z1[ii][0])\n",
        "\n",
        "    \n",
        "    weight1 -= learningRate * (gradW1/batchSize)\n",
        "    weight2 -= learningRate * (gradW2/batchSize)\n",
        "    weight3 -= learningRate * (gradW3/batchSize)\n",
        "\n",
        "    bias1 -= learningRate * (gradB1/batchSize)\n",
        "    bias2 -= learningRate * (gradB2/batchSize)\n",
        "    bias3 -= learningRate * (gradB3/batchSize)\n",
        "\n",
        "\n",
        "# Accuracy Calculator\n",
        "count = 0\n",
        "for i in range(100):\n",
        "\n",
        "  a1 = sigmoid((weight1 @ trainSet[i][0]) + bias1)\n",
        "  a2 = sigmoid((weight2 @ a1) + bias2)\n",
        "  a3 = sigmoid((weight3 @ a2) + bias3)\n",
        "\n",
        "  if maxIndex(trainSet[i][1]) == maxIndex(a3):\n",
        "    count += 1\n",
        "\n",
        "print(\" Accuracy:\", count, \"%\")\n",
        "\n",
        "      "
      ],
      "metadata": {
        "id": "Eqb8W4J2N8sw",
        "colab": {
          "base_uri": "https://localhost:8080/"
        },
        "outputId": "f4a9ce69-9828-439e-ba61-76c9a8cffd9b"
      },
      "execution_count": null,
      "outputs": [
        {
          "output_type": "stream",
          "name": "stdout",
          "text": [
            " Accuracy: 30 %\n"
          ]
        }
      ]
    },
    {
      "cell_type": "code",
      "source": [
        "# Accuracy Calculator\n",
        "count = 0\n",
        "for i in range(numTrainImage):\n",
        "\n",
        "  a1 = sigmoid((weight1 @ trainSet[i][0]) + bias1)\n",
        "  a2 = sigmoid((weight2 @ a1) + bias2)\n",
        "  a3 = sigmoid((weight3 @ a2) + bias3)\n",
        "\n",
        "  if maxIndex(trainSet[i][1]) == maxIndex(a3):\n",
        "    count += 1\n",
        "\n",
        "print(\" Accuracy:\", count/numTrainImage * 100, \"%\")\n",
        "\n",
        "plt.plot(costList)\n",
        "plt.show()"
      ],
      "metadata": {
        "colab": {
          "base_uri": "https://localhost:8080/",
          "height": 282
        },
        "id": "O6zabIlNSPgM",
        "outputId": "e54803d7-74fe-46f0-ab95-a673412dac7e"
      },
      "execution_count": null,
      "outputs": [
        {
          "output_type": "stream",
          "name": "stdout",
          "text": [
            " Accuracy: 90.125 %\n"
          ]
        },
        {
          "output_type": "display_data",
          "data": {
            "text/plain": [
              "<Figure size 432x288 with 1 Axes>"
            ],
            "image/png": "[encoded data removed]"
          },
          "metadata": {
            "needs_background": "light"
          }
        }
      ]
    },
    {
      "cell_type": "code",
      "source": [
        "weight1 = np.random.randn(16, 784)\n",
        "weight2 = np.random.randn(16, 16)\n",
        "weight3 = np.random.randn(10, 16)\n",
        "\n",
        "bias1 = np.zeros((16,1))\n",
        "bias2 = np.zeros((16,1))\n",
        "bias3 = np.zeros((10,1))\n",
        "\n",
        "# Hyperprameters\n",
        "learningRate = 1\n",
        "numEpochs = 5\n",
        "batchSize = 50\n",
        "\n",
        "costList = []\n",
        "\n",
        "for i in range(numEpochs):\n",
        "  \n",
        "\n",
        "  cost = 0\n",
        "  random.shuffle(trainSet)\n",
        "\n",
        "  for j in range(int(numTrainImage/batchSize)):\n",
        "\n",
        "    gradW1 = np.zeros((16, 784))\n",
        "    gradW2 = np.zeros((16, 16))\n",
        "    gradW3 = np.zeros((10, 16))\n",
        "\n",
        "    gradB1 = np.zeros((16, 1))\n",
        "    gradB2 = np.zeros((16, 1))\n",
        "    gradB3 = np.zeros((10, 1))\n",
        "\n",
        "    gradA1 = np.zeros((16, 1))\n",
        "    gradA2 = np.zeros((16, 1))\n",
        "\n",
        "    \n",
        "    for k in range((j-1)*batchSize, (j)*batchSize):\n",
        "\n",
        "    \n",
        "      z1 = (weight1 @ trainSet[k][0]) + bias1\n",
        "      a1 = sigmoid(z1)\n",
        "      \n",
        "      z2 = (weight2 @ a1) + bias2\n",
        "      a2 = sigmoid(z2)\n",
        "\n",
        "      z3  =(weight3 @ a2) + bias3\n",
        "      a3 = sigmoid(z3)\n",
        "\n",
        "      # Cost Function\n",
        "      \n",
        "      for l in range(a3.size):\n",
        "        cost += (a3[l] - trainSet[k][1][l]) ** 2\n",
        "      \n",
        "\n",
        "\n",
        "      # w3, b3, a2\n",
        "\n",
        "\n",
        "      gradW3 += (sigmoidDerivative(z3) * (2 * a3 - 2 * trainSet[k][1])) @ (np.transpose(a2))\n",
        "\n",
        "      gradB3 += (sigmoidDerivative(z3) * (2 * a3 - 2 * trainSet[k][1]))\n",
        "\n",
        "      gradA2 = (np.transpose(weight3)) @ (sigmoidDerivative(z3) * (2 * a3 - 2 * trainSet[k][1]))\n",
        "\n",
        "\n",
        "      # --------------------------------------------------------------------------------\n",
        "\n",
        "      # w2, b2, a1\n",
        "\n",
        "      gradW2 += (sigmoidDerivative(z2) * gradA2) @ (np.transpose(a1))\n",
        "\n",
        "      gradB2 += (sigmoidDerivative(z2) * gradA2)\n",
        "\n",
        "      gradA1 = (np.transpose(weight2)) @ (sigmoidDerivative(z2) * gradA2)\n",
        "\n",
        "\n",
        "      # ------------------------------------------------------------------------------------\n",
        "\n",
        "      # w1, b1\n",
        "\n",
        "\n",
        "      gradW1 += (sigmoidDerivative(z1) * gradA1) @ (np.transpose(trainSet[k][0]))\n",
        "\n",
        "      gradB1 += (sigmoidDerivative(z1) * gradA1)\n",
        "\n",
        "    \n",
        "    weight1 -= learningRate * (gradW1/batchSize)\n",
        "    weight2 -= learningRate * (gradW2/batchSize)\n",
        "    weight3 -= learningRate * (gradW3/batchSize)\n",
        "\n",
        "    bias1 -= learningRate * (gradB1/batchSize)\n",
        "    bias2 -= learningRate * (gradB2/batchSize)\n",
        "    bias3 -= learningRate * (gradB3/batchSize)\n",
        "  \n",
        "  costList.append(cost / numTrainImage)\n",
        "\n"
      ],
      "metadata": {
        "id": "JB8yQhHkCXtN"
      },
      "execution_count": null,
      "outputs": []
    }
  ]
}